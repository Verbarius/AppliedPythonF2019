{
 "cells": [
  {
   "cell_type": "code",
   "execution_count": 139,
   "metadata": {},
   "outputs": [
    {
     "name": "stdout",
     "output_type": "stream",
     "text": [
      "[39, 64, 85, 61, 61, 71, 11, 16, 22, 45, 44, 64, 28, 35, 76, 26, 27, 48, 82, 44, 70, 1, 63, 4, 50, 49, 24, 56, 89, 27, 24, 25, 83, 88, 47, 85, 34, 81, 56, 41, 41, 97, 93, 43, 45, 76, 50, 72, 2, 72, 79, 47, 34, 40, 57, 68, 34, 25, 99, 78, 3, 62, 5, 67, 86, 84, 22, 64, 4, 79, 0, 25, 43, 18, 72, 57, 84, 21, 89, 10, 1, 46, 27, 98, 27, 7, 32, 66, 45, 52, 54, 98, 72, 94, 68, 67, 37, 22, 21, 99, 24, 93, 40, 50, 15, 90, 85, 22, 44, 65, 97, 81, 33, 72, 6, 38, 65, 24, 69, 40, 41, 52, 25, 15, 73, 71, 16, 44, 1, 62, 81, 21, 96, 15, 17, 21, 25, 90, 98, 65, 94, 43, 35, 52, 76, 28, 79, 88, 99, 25, 22, 68, 11, 38, 71, 82, 28, 38, 68, 69, 33, 51, 57, 55, 79, 4, 68, 1, 93, 83, 74, 88, 1, 39, 1, 58, 68, 21, 69, 63, 42, 62, 66, 83, 6, 91, 99, 3, 30, 60, 45, 75, 0, 96, 92, 95, 46, 44, 97, 75]\n"
     ]
    }
   ],
   "source": [
    "import numpy as np\n",
    "A = [np.random.randint(100) for i in range(200)]\n",
    "val = 124\n",
    "print(A)"
   ]
  },
  {
   "cell_type": "code",
   "execution_count": 140,
   "metadata": {},
   "outputs": [
    {
     "name": "stdout",
     "output_type": "stream",
     "text": [
      "(148, 149)\n",
      "CPU times: user 144 ms, sys: 4 ms, total: 148 ms\n",
      "Wall time: 193 ms\n"
     ]
    }
   ],
   "source": [
    "%%time\n",
    "d = {}\n",
    "for i in range(len(A)):\n",
    "    for j in range(i+1):\n",
    "        d[sum(A[j:i])]=(j, i-1)\n",
    "if val in d.keys():\n",
    "    print(d[val])\n",
    "else:\n",
    "    print(())"
   ]
  },
  {
   "cell_type": "code",
   "execution_count": 141,
   "metadata": {},
   "outputs": [
    {
     "name": "stdout",
     "output_type": "stream",
     "text": [
      "(46, 48)\n",
      "CPU times: user 4 ms, sys: 0 ns, total: 4 ms\n",
      "Wall time: 9.8 ms\n"
     ]
    }
   ],
   "source": [
    "%%time\n",
    "flag = 0\n",
    "for i in range(len(A)):\n",
    "    for j in range(i+1):\n",
    "        if(sum(A[j:i])==val):\n",
    "            print((j, i-1))\n",
    "            flag = 1\n",
    "            break\n",
    "    if flag == 1:\n",
    "        break\n",
    "if flag==0:\n",
    "    print(())\n"
   ]
  },
  {
   "cell_type": "code",
   "execution_count": 120,
   "metadata": {},
   "outputs": [
    {
     "data": {
      "text/plain": [
       "100"
      ]
     },
     "execution_count": 120,
     "metadata": {},
     "output_type": "execute_result"
    }
   ],
   "source": [
    "len(a)"
   ]
  },
  {
   "cell_type": "code",
   "execution_count": null,
   "metadata": {},
   "outputs": [],
   "source": []
  }
 ],
 "metadata": {
  "kernelspec": {
   "display_name": "Python 3",
   "language": "python",
   "name": "python3"
  },
  "language_info": {
   "codemirror_mode": {
    "name": "ipython",
    "version": 3
   },
   "file_extension": ".py",
   "mimetype": "text/x-python",
   "name": "python",
   "nbconvert_exporter": "python",
   "pygments_lexer": "ipython3",
   "version": "3.7.3"
  }
 },
 "nbformat": 4,
 "nbformat_minor": 2
}
